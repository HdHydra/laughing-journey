{
 "cells": [
  {
   "cell_type": "code",
   "execution_count": 1,
   "id": "8172fd02",
   "metadata": {},
   "outputs": [],
   "source": [
    "import numpy as np\n",
    "import pandas as pd"
   ]
  },
  {
   "cell_type": "code",
   "execution_count": 2,
   "id": "f8578aaf",
   "metadata": {},
   "outputs": [],
   "source": [
    "df = pd.read_csv('googleplaystore.csv')"
   ]
  },
  {
   "cell_type": "code",
   "execution_count": 3,
   "id": "9169d9ed",
   "metadata": {},
   "outputs": [],
   "source": [
    "df.drop(['Last Updated', 'Current Ver', 'Android Ver'], axis = 1, inplace = True)"
   ]
  },
  {
   "cell_type": "code",
   "execution_count": 4,
   "id": "58577e50",
   "metadata": {},
   "outputs": [],
   "source": [
    "df.dropna(inplace = True)"
   ]
  },
  {
   "cell_type": "code",
   "execution_count": 5,
   "id": "3ab8cd74",
   "metadata": {},
   "outputs": [
    {
     "data": {
      "text/html": [
       "<div>\n",
       "<style scoped>\n",
       "    .dataframe tbody tr th:only-of-type {\n",
       "        vertical-align: middle;\n",
       "    }\n",
       "\n",
       "    .dataframe tbody tr th {\n",
       "        vertical-align: top;\n",
       "    }\n",
       "\n",
       "    .dataframe thead th {\n",
       "        text-align: right;\n",
       "    }\n",
       "</style>\n",
       "<table border=\"1\" class=\"dataframe\">\n",
       "  <thead>\n",
       "    <tr style=\"text-align: right;\">\n",
       "      <th></th>\n",
       "      <th>App</th>\n",
       "      <th>Category</th>\n",
       "      <th>Rating</th>\n",
       "      <th>Reviews</th>\n",
       "      <th>Size</th>\n",
       "      <th>Installs</th>\n",
       "      <th>Type</th>\n",
       "      <th>Price</th>\n",
       "      <th>Content Rating</th>\n",
       "      <th>Genres</th>\n",
       "    </tr>\n",
       "  </thead>\n",
       "  <tbody>\n",
       "    <tr>\n",
       "      <th>0</th>\n",
       "      <td>Photo Editor &amp; Candy Camera &amp; Grid &amp; ScrapBook</td>\n",
       "      <td>ART_AND_DESIGN</td>\n",
       "      <td>4.1</td>\n",
       "      <td>159</td>\n",
       "      <td>19M</td>\n",
       "      <td>10,000+</td>\n",
       "      <td>Free</td>\n",
       "      <td>0</td>\n",
       "      <td>Everyone</td>\n",
       "      <td>Art &amp; Design</td>\n",
       "    </tr>\n",
       "    <tr>\n",
       "      <th>1</th>\n",
       "      <td>Coloring book moana</td>\n",
       "      <td>ART_AND_DESIGN</td>\n",
       "      <td>3.9</td>\n",
       "      <td>967</td>\n",
       "      <td>14M</td>\n",
       "      <td>500,000+</td>\n",
       "      <td>Free</td>\n",
       "      <td>0</td>\n",
       "      <td>Everyone</td>\n",
       "      <td>Art &amp; Design;Pretend Play</td>\n",
       "    </tr>\n",
       "    <tr>\n",
       "      <th>2</th>\n",
       "      <td>U Launcher Lite – FREE Live Cool Themes, Hide ...</td>\n",
       "      <td>ART_AND_DESIGN</td>\n",
       "      <td>4.7</td>\n",
       "      <td>87510</td>\n",
       "      <td>8.7M</td>\n",
       "      <td>5,000,000+</td>\n",
       "      <td>Free</td>\n",
       "      <td>0</td>\n",
       "      <td>Everyone</td>\n",
       "      <td>Art &amp; Design</td>\n",
       "    </tr>\n",
       "    <tr>\n",
       "      <th>3</th>\n",
       "      <td>Sketch - Draw &amp; Paint</td>\n",
       "      <td>ART_AND_DESIGN</td>\n",
       "      <td>4.5</td>\n",
       "      <td>215644</td>\n",
       "      <td>25M</td>\n",
       "      <td>50,000,000+</td>\n",
       "      <td>Free</td>\n",
       "      <td>0</td>\n",
       "      <td>Teen</td>\n",
       "      <td>Art &amp; Design</td>\n",
       "    </tr>\n",
       "    <tr>\n",
       "      <th>4</th>\n",
       "      <td>Pixel Draw - Number Art Coloring Book</td>\n",
       "      <td>ART_AND_DESIGN</td>\n",
       "      <td>4.3</td>\n",
       "      <td>967</td>\n",
       "      <td>2.8M</td>\n",
       "      <td>100,000+</td>\n",
       "      <td>Free</td>\n",
       "      <td>0</td>\n",
       "      <td>Everyone</td>\n",
       "      <td>Art &amp; Design;Creativity</td>\n",
       "    </tr>\n",
       "  </tbody>\n",
       "</table>\n",
       "</div>"
      ],
      "text/plain": [
       "                                                 App        Category  Rating  \\\n",
       "0     Photo Editor & Candy Camera & Grid & ScrapBook  ART_AND_DESIGN     4.1   \n",
       "1                                Coloring book moana  ART_AND_DESIGN     3.9   \n",
       "2  U Launcher Lite – FREE Live Cool Themes, Hide ...  ART_AND_DESIGN     4.7   \n",
       "3                              Sketch - Draw & Paint  ART_AND_DESIGN     4.5   \n",
       "4              Pixel Draw - Number Art Coloring Book  ART_AND_DESIGN     4.3   \n",
       "\n",
       "  Reviews  Size     Installs  Type Price Content Rating  \\\n",
       "0     159   19M      10,000+  Free     0       Everyone   \n",
       "1     967   14M     500,000+  Free     0       Everyone   \n",
       "2   87510  8.7M   5,000,000+  Free     0       Everyone   \n",
       "3  215644   25M  50,000,000+  Free     0           Teen   \n",
       "4     967  2.8M     100,000+  Free     0       Everyone   \n",
       "\n",
       "                      Genres  \n",
       "0               Art & Design  \n",
       "1  Art & Design;Pretend Play  \n",
       "2               Art & Design  \n",
       "3               Art & Design  \n",
       "4    Art & Design;Creativity  "
      ]
     },
     "execution_count": 5,
     "metadata": {},
     "output_type": "execute_result"
    }
   ],
   "source": [
    "df.head()"
   ]
  },
  {
   "cell_type": "markdown",
   "id": "7518ea7a",
   "metadata": {},
   "source": [
    "# Catagory"
   ]
  },
  {
   "cell_type": "code",
   "execution_count": 6,
   "id": "140be60f",
   "metadata": {},
   "outputs": [],
   "source": [
    "unique_categories = df['Category'].unique()"
   ]
  },
  {
   "cell_type": "code",
   "execution_count": 7,
   "id": "2aef2c77",
   "metadata": {},
   "outputs": [
    {
     "name": "stdout",
     "output_type": "stream",
     "text": [
      "1 ART_AND_DESIGN\n",
      "2 AUTO_AND_VEHICLES\n",
      "3 BEAUTY\n",
      "4 BOOKS_AND_REFERENCE\n",
      "5 BUSINESS\n",
      "6 COMICS\n",
      "7 COMMUNICATION\n",
      "8 DATING\n",
      "9 EDUCATION\n",
      "10 ENTERTAINMENT\n",
      "11 EVENTS\n",
      "12 FINANCE\n",
      "13 FOOD_AND_DRINK\n",
      "14 HEALTH_AND_FITNESS\n",
      "15 HOUSE_AND_HOME\n",
      "16 LIBRARIES_AND_DEMO\n",
      "17 LIFESTYLE\n",
      "18 GAME\n",
      "19 FAMILY\n",
      "20 MEDICAL\n",
      "21 SOCIAL\n",
      "22 SHOPPING\n",
      "23 PHOTOGRAPHY\n",
      "24 SPORTS\n",
      "25 TRAVEL_AND_LOCAL\n",
      "26 TOOLS\n",
      "27 PERSONALIZATION\n",
      "28 PRODUCTIVITY\n",
      "29 PARENTING\n",
      "30 WEATHER\n",
      "31 VIDEO_PLAYERS\n",
      "32 NEWS_AND_MAGAZINES\n",
      "33 MAPS_AND_NAVIGATION\n"
     ]
    }
   ],
   "source": [
    "for i,j in enumerate(unique_categories):\n",
    "    print (i+1,j)"
   ]
  },
  {
   "cell_type": "code",
   "execution_count": 8,
   "id": "072f521b",
   "metadata": {},
   "outputs": [],
   "source": [
    "def categories(name):\n",
    "    c = 0\n",
    "\n",
    "    for i in df['Category'].values:\n",
    "        if i == name:\n",
    "            c += 1\n",
    "\n",
    "    return(c)"
   ]
  },
  {
   "cell_type": "code",
   "execution_count": 9,
   "id": "a6d017cf",
   "metadata": {},
   "outputs": [
    {
     "data": {
      "text/plain": [
       "75"
      ]
     },
     "execution_count": 9,
     "metadata": {},
     "output_type": "execute_result"
    }
   ],
   "source": [
    "categories('WEATHER')"
   ]
  },
  {
   "cell_type": "code",
   "execution_count": 10,
   "id": "38b54e16",
   "metadata": {},
   "outputs": [],
   "source": [
    "dctc = {}\n",
    "\n",
    "for i in df['Category'].unique():\n",
    "    \n",
    "    var = categories(i)\n",
    "    dctc[i] = var\n",
    "    "
   ]
  },
  {
   "cell_type": "code",
   "execution_count": 11,
   "id": "9bb66a24",
   "metadata": {},
   "outputs": [
    {
     "data": {
      "text/plain": [
       "75"
      ]
     },
     "execution_count": 11,
     "metadata": {},
     "output_type": "execute_result"
    }
   ],
   "source": [
    "dctc['WEATHER']"
   ]
  },
  {
   "cell_type": "markdown",
   "id": "49b43a7a",
   "metadata": {},
   "source": [
    "# Price"
   ]
  },
  {
   "cell_type": "code",
   "execution_count": 12,
   "id": "d3e7ed7b",
   "metadata": {},
   "outputs": [],
   "source": [
    "unique_prices = df['Price'].unique()"
   ]
  },
  {
   "cell_type": "code",
   "execution_count": 13,
   "id": "a39f1400",
   "metadata": {},
   "outputs": [],
   "source": [
    "price = []\n",
    "\n",
    "for i in df['Price'].values:\n",
    "    if i == '0':\n",
    "        price.append(0)\n",
    "    else:\n",
    "        price.append(int(float(i[1:]) * 73.5))"
   ]
  },
  {
   "cell_type": "code",
   "execution_count": 14,
   "id": "4bffad5c",
   "metadata": {},
   "outputs": [],
   "source": [
    "def prices(name):\n",
    "    c = 0\n",
    "\n",
    "    for i in df['Price'].values:\n",
    "        if i == name:\n",
    "            c += 1\n",
    "            \n",
    "    return(c)"
   ]
  },
  {
   "cell_type": "code",
   "execution_count": 15,
   "id": "59b541f1",
   "metadata": {},
   "outputs": [
    {
     "data": {
      "text/plain": [
       "8719"
      ]
     },
     "execution_count": 15,
     "metadata": {},
     "output_type": "execute_result"
    }
   ],
   "source": [
    "prices('0')"
   ]
  },
  {
   "cell_type": "code",
   "execution_count": 16,
   "id": "d0bdbcd5",
   "metadata": {},
   "outputs": [],
   "source": [
    "dctp = {}\n",
    "\n",
    "for i in df['Price'].unique():\n",
    "    var = prices(i)\n",
    "    dctp[i] = var"
   ]
  },
  {
   "cell_type": "code",
   "execution_count": 17,
   "id": "a22edf62",
   "metadata": {},
   "outputs": [
    {
     "data": {
      "text/plain": [
       "{'0': 8719,\n",
       " '$4.99': 70,\n",
       " '$3.99': 58,\n",
       " '$6.99': 13,\n",
       " '$7.99': 7,\n",
       " '$5.99': 18,\n",
       " '$2.99': 114,\n",
       " '$3.49': 7,\n",
       " '$1.99': 59,\n",
       " '$9.99': 16,\n",
       " '$7.49': 2,\n",
       " '$0.99': 107,\n",
       " '$9.00': 2,\n",
       " '$5.49': 3,\n",
       " '$10.00': 3,\n",
       " '$24.99': 5,\n",
       " '$11.99': 5,\n",
       " '$79.99': 2,\n",
       " '$16.99': 3,\n",
       " '$14.99': 10,\n",
       " '$29.99': 6,\n",
       " '$12.99': 5,\n",
       " '$2.49': 21,\n",
       " '$10.99': 2,\n",
       " '$1.50': 1,\n",
       " '$19.99': 5,\n",
       " '$15.99': 1,\n",
       " '$33.99': 2,\n",
       " '$39.99': 1,\n",
       " '$3.95': 2,\n",
       " '$4.49': 9,\n",
       " '$1.70': 2,\n",
       " '$8.99': 4,\n",
       " '$1.49': 31,\n",
       " '$3.88': 1,\n",
       " '$399.99': 11,\n",
       " '$17.99': 2,\n",
       " '$400.00': 1,\n",
       " '$3.02': 1,\n",
       " '$1.76': 1,\n",
       " '$4.84': 1,\n",
       " '$4.77': 1,\n",
       " '$1.61': 1,\n",
       " '$2.50': 1,\n",
       " '$1.59': 1,\n",
       " '$6.49': 1,\n",
       " '$1.29': 1,\n",
       " '$299.99': 1,\n",
       " '$379.99': 1,\n",
       " '$37.99': 1,\n",
       " '$18.99': 1,\n",
       " '$389.99': 1,\n",
       " '$8.49': 1,\n",
       " '$1.75': 1,\n",
       " '$14.00': 1,\n",
       " '$2.00': 1,\n",
       " '$3.08': 1,\n",
       " '$2.59': 1,\n",
       " '$19.40': 1,\n",
       " '$3.90': 1,\n",
       " '$4.59': 1,\n",
       " '$15.46': 1,\n",
       " '$3.04': 1,\n",
       " '$13.99': 1,\n",
       " '$4.29': 1,\n",
       " '$3.28': 1,\n",
       " '$4.60': 1,\n",
       " '$1.00': 2,\n",
       " '$2.95': 1,\n",
       " '$2.90': 1,\n",
       " '$1.97': 1,\n",
       " '$2.56': 1,\n",
       " '$1.20': 1}"
      ]
     },
     "execution_count": 17,
     "metadata": {},
     "output_type": "execute_result"
    }
   ],
   "source": [
    "dctp"
   ]
  },
  {
   "cell_type": "markdown",
   "id": "cdbdf028",
   "metadata": {},
   "source": [
    "# Content Rating"
   ]
  },
  {
   "cell_type": "code",
   "execution_count": 18,
   "id": "f1c90da4",
   "metadata": {},
   "outputs": [
    {
     "data": {
      "text/plain": [
       "array(['Everyone', 'Teen', 'Everyone 10+', 'Mature 17+',\n",
       "       'Adults only 18+', 'Unrated'], dtype=object)"
      ]
     },
     "execution_count": 18,
     "metadata": {},
     "output_type": "execute_result"
    }
   ],
   "source": [
    "df['Content Rating'].unique()"
   ]
  },
  {
   "cell_type": "code",
   "execution_count": 19,
   "id": "0e42f6c2",
   "metadata": {},
   "outputs": [],
   "source": [
    "def content_rating(name):\n",
    "    c = 0\n",
    "\n",
    "    for i in df['Content Rating'].values:\n",
    "        if i == name:\n",
    "            c += 1\n",
    "\n",
    "    return c"
   ]
  },
  {
   "cell_type": "code",
   "execution_count": 20,
   "id": "0bb75be0",
   "metadata": {},
   "outputs": [
    {
     "data": {
      "text/plain": [
       "3"
      ]
     },
     "execution_count": 20,
     "metadata": {},
     "output_type": "execute_result"
    }
   ],
   "source": [
    "content_rating('Adults only 18+')"
   ]
  },
  {
   "cell_type": "code",
   "execution_count": 21,
   "id": "5a458161",
   "metadata": {},
   "outputs": [
    {
     "data": {
      "text/plain": [
       "1084"
      ]
     },
     "execution_count": 21,
     "metadata": {},
     "output_type": "execute_result"
    }
   ],
   "source": [
    "content_rating('Teen')"
   ]
  },
  {
   "cell_type": "code",
   "execution_count": 22,
   "id": "ab91b07d",
   "metadata": {},
   "outputs": [],
   "source": [
    "dctcr = {}\n",
    "\n",
    "for i in df['Content Rating'].unique():\n",
    "    \n",
    "    var = content_rating(i)\n",
    "    dctcr[i] = var\n",
    "    "
   ]
  },
  {
   "cell_type": "code",
   "execution_count": 23,
   "id": "18145de8",
   "metadata": {},
   "outputs": [
    {
     "data": {
      "text/plain": [
       "{'Everyone': 7420,\n",
       " 'Teen': 1084,\n",
       " 'Everyone 10+': 397,\n",
       " 'Mature 17+': 461,\n",
       " 'Adults only 18+': 3,\n",
       " 'Unrated': 1}"
      ]
     },
     "execution_count": 23,
     "metadata": {},
     "output_type": "execute_result"
    }
   ],
   "source": [
    "dctcr"
   ]
  },
  {
   "cell_type": "markdown",
   "id": "7d5e27f7",
   "metadata": {},
   "source": [
    "# Genres"
   ]
  },
  {
   "cell_type": "code",
   "execution_count": 24,
   "id": "cc0355cf",
   "metadata": {},
   "outputs": [],
   "source": [
    "def genres(name):\n",
    "    c = 0\n",
    "\n",
    "    for i in df['Genres'].values:\n",
    "        if i == name:\n",
    "            c += 1\n",
    "\n",
    "    return c"
   ]
  },
  {
   "cell_type": "code",
   "execution_count": 25,
   "id": "9ecd9e45",
   "metadata": {},
   "outputs": [],
   "source": [
    "dctg = {}\n",
    "\n",
    "for i in df['Genres'].unique():\n",
    "    \n",
    "    var = genres(i)\n",
    "    dctg[i] = var\n",
    "    "
   ]
  },
  {
   "cell_type": "code",
   "execution_count": 26,
   "id": "692506e7",
   "metadata": {},
   "outputs": [
    {
     "data": {
      "text/plain": [
       "358"
      ]
     },
     "execution_count": 26,
     "metadata": {},
     "output_type": "execute_result"
    }
   ],
   "source": [
    "dctg['Action']"
   ]
  },
  {
   "cell_type": "code",
   "execution_count": 27,
   "id": "3f9ec59e",
   "metadata": {},
   "outputs": [
    {
     "data": {
      "text/plain": [
       "{'Art & Design': 56,\n",
       " 'Art & Design;Pretend Play': 2,\n",
       " 'Art & Design;Creativity': 7,\n",
       " 'Auto & Vehicles': 73,\n",
       " 'Beauty': 42,\n",
       " 'Books & Reference': 178,\n",
       " 'Business': 303,\n",
       " 'Comics': 57,\n",
       " 'Comics;Creativity': 1,\n",
       " 'Communication': 328,\n",
       " 'Dating': 195,\n",
       " 'Education;Education': 50,\n",
       " 'Education': 468,\n",
       " 'Education;Creativity': 7,\n",
       " 'Education;Music & Video': 5,\n",
       " 'Education;Action & Adventure': 6,\n",
       " 'Education;Pretend Play': 23,\n",
       " 'Education;Brain Games': 4,\n",
       " 'Entertainment': 533,\n",
       " 'Entertainment;Music & Video': 27,\n",
       " 'Entertainment;Brain Games': 8,\n",
       " 'Entertainment;Creativity': 3,\n",
       " 'Events': 45,\n",
       " 'Finance': 323,\n",
       " 'Food & Drink': 109,\n",
       " 'Health & Fitness': 297,\n",
       " 'House & Home': 76,\n",
       " 'Libraries & Demo': 65,\n",
       " 'Lifestyle': 313,\n",
       " 'Lifestyle;Pretend Play': 1,\n",
       " 'Adventure;Action & Adventure': 13,\n",
       " 'Arcade': 207,\n",
       " 'Casual': 185,\n",
       " 'Card': 45,\n",
       " 'Casual;Pretend Play': 31,\n",
       " 'Action': 358,\n",
       " 'Strategy': 103,\n",
       " 'Puzzle': 121,\n",
       " 'Sports': 333,\n",
       " 'Music': 21,\n",
       " 'Word': 28,\n",
       " 'Racing': 93,\n",
       " 'Casual;Creativity': 7,\n",
       " 'Casual;Action & Adventure': 21,\n",
       " 'Simulation': 194,\n",
       " 'Adventure': 73,\n",
       " 'Board': 41,\n",
       " 'Trivia': 28,\n",
       " 'Role Playing': 106,\n",
       " 'Simulation;Education': 3,\n",
       " 'Action;Action & Adventure': 17,\n",
       " 'Casual;Brain Games': 13,\n",
       " 'Simulation;Action & Adventure': 11,\n",
       " 'Educational;Creativity': 5,\n",
       " 'Puzzle;Brain Games': 19,\n",
       " 'Educational;Education': 38,\n",
       " 'Card;Brain Games': 1,\n",
       " 'Educational;Brain Games': 6,\n",
       " 'Educational;Pretend Play': 18,\n",
       " 'Entertainment;Education': 1,\n",
       " 'Casual;Education': 3,\n",
       " 'Music;Music & Video': 3,\n",
       " 'Racing;Action & Adventure': 20,\n",
       " 'Arcade;Pretend Play': 1,\n",
       " 'Role Playing;Action & Adventure': 7,\n",
       " 'Simulation;Pretend Play': 4,\n",
       " 'Puzzle;Creativity': 2,\n",
       " 'Sports;Action & Adventure': 4,\n",
       " 'Educational;Action & Adventure': 4,\n",
       " 'Arcade;Action & Adventure': 15,\n",
       " 'Entertainment;Action & Adventure': 3,\n",
       " 'Puzzle;Action & Adventure': 5,\n",
       " 'Strategy;Action & Adventure': 2,\n",
       " 'Music & Audio;Music & Video': 1,\n",
       " 'Health & Fitness;Education': 1,\n",
       " 'Adventure;Education': 2,\n",
       " 'Board;Brain Games': 15,\n",
       " 'Board;Action & Adventure': 3,\n",
       " 'Board;Pretend Play': 1,\n",
       " 'Casual;Music & Video': 2,\n",
       " 'Role Playing;Pretend Play': 5,\n",
       " 'Entertainment;Pretend Play': 2,\n",
       " 'Video Players & Editors;Creativity': 2,\n",
       " 'Card;Action & Adventure': 2,\n",
       " 'Medical': 350,\n",
       " 'Social': 259,\n",
       " 'Shopping': 238,\n",
       " 'Photography': 317,\n",
       " 'Travel & Local': 225,\n",
       " 'Travel & Local;Action & Adventure': 1,\n",
       " 'Tools': 733,\n",
       " 'Tools;Education': 1,\n",
       " 'Personalization': 314,\n",
       " 'Productivity': 351,\n",
       " 'Parenting': 40,\n",
       " 'Parenting;Music & Video': 6,\n",
       " 'Parenting;Brain Games': 1,\n",
       " 'Parenting;Education': 3,\n",
       " 'Weather': 75,\n",
       " 'Video Players & Editors': 158,\n",
       " 'Video Players & Editors;Music & Video': 3,\n",
       " 'News & Magazines': 233,\n",
       " 'Maps & Navigation': 124,\n",
       " 'Health & Fitness;Action & Adventure': 1,\n",
       " 'Educational': 32,\n",
       " 'Casino': 37,\n",
       " 'Adventure;Brain Games': 1,\n",
       " 'Lifestyle;Education': 1,\n",
       " 'Books & Reference;Education': 2,\n",
       " 'Puzzle;Education': 1,\n",
       " 'Role Playing;Brain Games': 1,\n",
       " 'Strategy;Education': 1,\n",
       " 'Racing;Pretend Play': 1,\n",
       " 'Communication;Creativity': 1,\n",
       " 'Strategy;Creativity': 1}"
      ]
     },
     "execution_count": 27,
     "metadata": {},
     "output_type": "execute_result"
    }
   ],
   "source": [
    "dctg"
   ]
  },
  {
   "cell_type": "markdown",
   "id": "f30d9d2b",
   "metadata": {},
   "source": [
    "# Installs"
   ]
  },
  {
   "cell_type": "code",
   "execution_count": 28,
   "id": "30cfb38a",
   "metadata": {},
   "outputs": [],
   "source": [
    "def installs(name):\n",
    "    c = 0\n",
    "\n",
    "    for i in df['Installs'].values:\n",
    "        if i == name:\n",
    "            c += 1\n",
    "\n",
    "    return(c)"
   ]
  },
  {
   "cell_type": "code",
   "execution_count": 29,
   "id": "593ec96c",
   "metadata": {},
   "outputs": [],
   "source": [
    "dcti = {}\n",
    "\n",
    "for i in df['Installs'].unique():\n",
    "    value = installs(i)\n",
    "    dcti[i] = value\n"
   ]
  },
  {
   "cell_type": "code",
   "execution_count": 31,
   "id": "cb87e305",
   "metadata": {},
   "outputs": [
    {
     "name": "stdout",
     "output_type": "stream",
     "text": [
      "1+ : 3\n",
      "1,000+ : 713\n",
      "1,000,000+ : 1577\n",
      "1,000,000,000+ : 58\n",
      "10+ : 69\n",
      "10,000+ : 1010\n",
      "10,000,000+ : 1252\n",
      "100+ : 309\n",
      "100,000+ : 1150\n",
      "100,000,000+ : 409\n",
      "5+ : 9\n",
      "5,000+ : 432\n",
      "5,000,000+ : 752\n",
      "50+ : 56\n",
      "50,000+ : 467\n",
      "50,000,000+ : 289\n",
      "500+ : 201\n",
      "500,000+ : 538\n",
      "500,000,000+ : 72\n"
     ]
    }
   ],
   "source": [
    "for k,v in sorted(dcti.items()):\n",
    "    print (f'{k} : {v}')"
   ]
  },
  {
   "cell_type": "code",
   "execution_count": null,
   "id": "8d6fe65b",
   "metadata": {},
   "outputs": [],
   "source": []
  }
 ],
 "metadata": {
  "kernelspec": {
   "display_name": "Python 3 (ipykernel)",
   "language": "python",
   "name": "python3"
  },
  "language_info": {
   "codemirror_mode": {
    "name": "ipython",
    "version": 3
   },
   "file_extension": ".py",
   "mimetype": "text/x-python",
   "name": "python",
   "nbconvert_exporter": "python",
   "pygments_lexer": "ipython3",
   "version": "3.9.7"
  }
 },
 "nbformat": 4,
 "nbformat_minor": 5
}
